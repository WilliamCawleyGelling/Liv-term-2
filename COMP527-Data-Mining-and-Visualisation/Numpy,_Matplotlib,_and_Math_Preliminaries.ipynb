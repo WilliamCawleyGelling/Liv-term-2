{
 "cells": [
  {
   "cell_type": "markdown",
   "metadata": {
    "id": "RhLrhj6AqsyE"
   },
   "source": [
    "# Numpy, Matplotlib and Math preliminaries\n",
    "\n",
    "Numpy is a python library that provides data structures useful for data mining such as arrays, and various functions on those data structures. Follow [the official numpy tutorial](https://numpy.org/devdocs/user/quickstart.html) and familiarize yourself with numpy. Using only Numpy as an external library complete the following exercises.\n"
   ]
  },
  {
   "cell_type": "code",
   "execution_count": 1,
   "metadata": {
    "id": "veuhBxFGqsyJ"
   },
   "outputs": [],
   "source": [
    "import numpy as np"
   ]
  },
  {
   "cell_type": "markdown",
   "metadata": {
    "id": "5flPfD80qsyJ"
   },
   "source": [
    "\n",
    "## Excercise 1\n",
    "Given $\\overline{X} = (1,2,3,4,5,6,7,8,9,10)^T$ and $\\overline{Y} = (10,9,8,7,6,5,3,2,1)^T$ find\n",
    "\n",
    "1. $\\overline{X} + \\overline{Y}$\n",
    "2. $\\overline{X}^T \\overline{Y}$\n",
    "2. $\\overline{Y}\\overline{X}^T$\n"
   ]
  },
  {
   "cell_type": "code",
   "execution_count": 2,
   "metadata": {
    "id": "JWztdJoZqsyK"
   },
   "outputs": [
    {
     "name": "stdout",
     "output_type": "stream",
     "text": [
      "the * product doesn't work in python, instead use @ or dot function \n",
      "[11 11 11 11 11 11 11 11 11 11] 1\n",
      "220\n",
      "220\n",
      "220\n",
      "x + y [11 11 11 11 11 11 11 11 11 11]\n",
      "x + y 220\n",
      "x + y [[ 10   9   8   7   6   5   4   3   2   1]\n",
      " [ 20  18  16  14  12  10   8   6   4   2]\n",
      " [ 30  27  24  21  18  15  12   9   6   3]\n",
      " [ 40  36  32  28  24  20  16  12   8   4]\n",
      " [ 50  45  40  35  30  25  20  15  10   5]\n",
      " [ 60  54  48  42  36  30  24  18  12   6]\n",
      " [ 70  63  56  49  42  35  28  21  14   7]\n",
      " [ 80  72  64  56  48  40  32  24  16   8]\n",
      " [ 90  81  72  63  54  45  36  27  18   9]\n",
      " [100  90  80  70  60  50  40  30  20  10]]\n"
     ]
    }
   ],
   "source": [
    "x = np.arange(1,11)\n",
    "y = np.flip(x)\n",
    "print(\"the * product doesn't work in python, instead use @ or dot function \")\n",
    "print(x + y, np.ndim(x))\n",
    "print(np.transpose(x)@y)\n",
    "print(x@y)\n",
    "print(y@np.transpose(x))\n",
    "\n",
    "#his solution \n",
    "print(\"x + y\", np.add(x,y))\n",
    "print(\"x + y\", np.inner(x,y))\n",
    "print(\"x + y\", np.outer(x,y))\n"
   ]
  },
  {
   "cell_type": "markdown",
   "metadata": {
    "id": "z4KCglTwqsyK"
   },
   "source": [
    "---\n",
    "## Excercise 2\n",
    "Given two matrices \n",
    "$\\overline{A} = \\begin{pmatrix}1 & 2 & 3 & 4 & 5\\\\ 6 & 7 & 8 & 9 & 10\\\\ 11 & 12 & 13 & 14 & 15\\\\ 16 & 17 & 18 & 19 & 20\\\\ 21 & 22 & 23 & 24 & 25 \\end{pmatrix}$\n",
    "and \n",
    "$\\overline{B} = \\begin{pmatrix}0 & 1 & 0 & 1 & 0\\\\ 1 & 2 & 3 & 4 & 5\\\\ -1 & 0 & 1 & 0 & -1 \\\\ 5 & 4 & 3 & 2 & 5\\\\ -1 & 0 & 1 & 0 & -1 \\end{pmatrix}$\n",
    "\n",
    "1. Compute $\\overline{A} + \\overline{B}$\n",
    "2. Compute $\\overline{B} + \\overline{A}$. Is it equal to $\\overline{A} + \\overline{B}$? Is it always the case?\n",
    "3. Compute $\\overline{A} \\cdot \\overline{B}$\n",
    "4. Compute $\\overline{B} \\cdot \\overline{A}$. Is it equal to $\\overline{A} \\cdot \\overline{B}$?"
   ]
  },
  {
   "cell_type": "code",
   "execution_count": 5,
   "metadata": {
    "id": "ZvmZdAiFqsyK"
   },
   "outputs": [
    {
     "name": "stdout",
     "output_type": "stream",
     "text": [
      "x =\n",
      " [[ 1  2  3  4  5]\n",
      " [ 6  7  8  9 10]\n",
      " [11 12 13 14 15]\n",
      " [16 17 18 19 20]\n",
      " [21 22 23 24 25]]\n",
      "y =\n",
      " [[ 0  1  0  1  0]\n",
      " [ 1  2  3  4  5]\n",
      " [-1  0  1  0 -1]\n",
      " [ 5  4  3  2  5]\n",
      " [-1  0  1  0 -1]]\n",
      "x + y = \n",
      " [[ 1  3  3  5  5]\n",
      " [ 7  9 11 13 15]\n",
      " [10 12 14 14 14]\n",
      " [21 21 21 21 25]\n",
      " [20 22 24 24 24]]\n",
      "y + x = \n",
      " [[ 1  3  3  5  5]\n",
      " [ 7  9 11 13 15]\n",
      " [10 12 14 14 14]\n",
      " [21 21 21 21 25]\n",
      " [20 22 24 24 24]] \n",
      "These are always the same\n",
      "x . y = \n",
      " [[ 14  21  26  17  22]\n",
      " [ 34  56  66  52  62]\n",
      " [ 54  91 106  87 102]\n",
      " [ 74 126 146 122 142]\n",
      " [ 94 161 186 157 182]]\n",
      "y . x = \n",
      " [[ 22  24  26  28  30]\n",
      " [215 230 245 260 275]\n",
      " [-11 -12 -13 -14 -15]\n",
      " [199 218 237 256 275]\n",
      " [-11 -12 -13 -14 -15]] \n",
      "These are not the same\n"
     ]
    }
   ],
   "source": [
    "x = np.arange(1,26).reshape(5,5)\n",
    "print(\"x =\\n\",x)\n",
    "y = np.array([(0,1,0,1,0),(1,2,3,4,5),(-1,0,1,0,-1),(5,4,3,2,5),(-1,0,1,0,-1)])\n",
    "print(\"y =\\n\", y)\n",
    "print(\"x + y = \\n\", x + y)\n",
    "print(\"y + x = \\n\", y + x, \"\\nThese are always the same\")\n",
    "print(\"x . y = \\n\", x @ y)\n",
    "print(\"y . x = \\n\", y @ x, \"\\nThese are not the same\")\n",
    "\n",
    "#his solution \n",
    "\n",
    "\n"
   ]
  },
  {
   "cell_type": "markdown",
   "metadata": {
    "id": "if6a9H0FqsyK"
   },
   "source": [
    "---\n",
    "## Excercise 3\n",
    "Compute the inverse of the following matrix\n",
    "$\\overline{A} = \\begin{pmatrix} 1 & 2 & 4\\\\ -2 & 1 & 5 \\\\1 & 2 & 3 \\end{pmatrix}$, if one exsits. Verify that the matrix product of $\\overline{A}$ and its inverse is the 3x3 identity matrix. "
   ]
  },
  {
   "cell_type": "code",
   "execution_count": 6,
   "metadata": {
    "id": "LOJ3Ia7qqsyK"
   },
   "outputs": [
    {
     "name": "stdout",
     "output_type": "stream",
     "text": [
      "[[ 1  2  4]\n",
      " [-2  1  5]\n",
      " [ 1  2  3]]\n",
      "[[ 1.4 -0.4 -1.2]\n",
      " [-2.2  0.2  2.6]\n",
      " [ 1.  -0.  -1. ]]\n",
      "[[ 1.0000000e+00  0.0000000e+00  0.0000000e+00]\n",
      " [ 0.0000000e+00  1.0000000e+00  0.0000000e+00]\n",
      " [-4.4408921e-16  0.0000000e+00  1.0000000e+00]]\n",
      "5\n",
      "[[ 1.0000000e+00  0.0000000e+00  0.0000000e+00]\n",
      " [ 0.0000000e+00  1.0000000e+00  0.0000000e+00]\n",
      " [-4.4408921e-16  0.0000000e+00  1.0000000e+00]]\n",
      "(array([-1.17497212,  0.79028122,  5.3846909 ]), array([[ 0.06239496, -0.67877496,  0.71303028],\n",
      "       [-0.90584246,  0.6704372 ,  0.36050437],\n",
      "       [ 0.4189944 , -0.29963064,  0.60135216]]))\n",
      "[[4 2]\n",
      " [1 3]] (array([5., 2.]), array([[ 0.89442719, -0.70710678],\n",
      "       [ 0.4472136 ,  0.70710678]]))\n",
      "-5.000000000000001\n"
     ]
    }
   ],
   "source": [
    "a = np.array([(1,2,4),(-2,1,5),(1,2,3)])\n",
    "print(a)\n",
    "b= np.linalg.inv(a)\n",
    "print(b) \n",
    "print(a@b)\n",
    "print(np.trace(a))\n",
    "print(np.dot(a,b))\n",
    "print(np.linalg.eig(a))\n",
    "c = np.array([(4,2),(1,3)])\n",
    "print(c, np.linalg.eig(c))\n",
    "print(np.linalg.det(a))\n",
    "\n",
    "#his solution\n",
    "\n",
    "if np.linalg.det(a) != 0: \n",
    "    print('the inverse a^-1 of a is\\n', np.linalg.inv(a))\n",
    "else: \n",
    "    print('\\n ')\n",
    "    \n",
    "#we will make this correct later when solutions are released \n",
    "\n"
   ]
  },
  {
   "cell_type": "markdown",
   "metadata": {
    "id": "qAXDVEVkqsyL"
   },
   "source": [
    "---\n",
    "## Excercise 4\n",
    "Find the ranks of the following matrices\n",
    "$\\overline{A} = \\left(\\begin{matrix} 1 & 0 & 1 \\\\ 0 & 1 & 1\\\\ 0 & 0 & 0\\end{matrix}\\right)~$ and\n",
    "$~\\overline{B} = \\left(\\begin{matrix} 1 & 2 & 1 \\\\-2 & -3 & 1\\\\ 3 & 5 & 0\\end{matrix}\\right)$."
   ]
  },
  {
   "cell_type": "code",
   "execution_count": 4,
   "metadata": {
    "id": "NlBiJLYiqsyL"
   },
   "outputs": [
    {
     "name": "stdout",
     "output_type": "stream",
     "text": [
      "2\n",
      "2\n"
     ]
    }
   ],
   "source": [
    "a = np.array([(1,0,1),(0,1,1),(0,0,0)])\n",
    "b = np.array([(1,2,1),(-2,-3,1),(3,5,0)])\n",
    "print(np.linalg.matrix_rank(a))\n",
    "print(np.linalg.matrix_rank(b))"
   ]
  },
  {
   "cell_type": "markdown",
   "metadata": {
    "id": "6q5DrDRdqsyL"
   },
   "source": [
    "---\n",
    "## Excercise 6\n",
    "Find the eigenvalues of matrix\n",
    " $\\overline{A} = \\left(\\begin{matrix} 4 & 2\\\\ 1 & 3\\end{matrix}\\right)$"
   ]
  },
  {
   "cell_type": "code",
   "execution_count": 8,
   "metadata": {
    "id": "cEXPYLlAqsyL"
   },
   "outputs": [
    {
     "name": "stdout",
     "output_type": "stream",
     "text": [
      "[[4 2]\n",
      " [1 3]] (array([5., 2.]), array([[ 0.89442719, -0.70710678],\n",
      "       [ 0.4472136 ,  0.70710678]]))\n",
      "0.0\n"
     ]
    }
   ],
   "source": [
    "c = np.array([(4,2),(1,3)])\n",
    "print(c, np.linalg.eig(c))\n",
    "print(np.linalg.det(a))"
   ]
  },
  {
   "cell_type": "markdown",
   "metadata": {
    "id": "pA4EwMsoqsyL"
   },
   "source": [
    "---\n",
    "## Excercise 7\n",
    " \n",
    "For this excercise we will need [Matplotlib](https://matplotlib.org/index.html). Follow [the official Matplotlib tutorial](https://matplotlib.org/tutorials/introductory/pyplot.html#) and familiarize yourself with Matplotlib.\n",
    "\n",
    "Recall from the lecture the Gradient Descent method for finding local minimum of a function:\n",
    "\n",
    "1. Pick an initial point $\\overline{X}_0$\n",
    "2. Iterate according to $\\overline{X}_{i+1} = \\overline{X}_i - \\gamma \\cdot \\big((\\nabla_{\\overline{X}} f)(\\overline{X}_i) \\big)$\n",
    "\n",
    "\n",
    "Examine this method by trying to find the minimum of the function $f(x) = (x-3)^2$. More specifically, for every $\\gamma \\in \\{0.01, 0.1, 0.9, 1, 2\\}$:\n",
    "1. Plot the graph of $f(x) = (x-3)^2$\n",
    "2. Pick an intial point $x = -4$\n",
    "3. Run 20 interations of the methods \n",
    "4. In every iteration $i = 1, \\ldots, 20$, plot the point $(x_i, f(x_i))$ on the same plot as the graph of the function $f(x)$\n",
    "\n",
    "Interpret the results."
   ]
  },
  {
   "cell_type": "code",
   "execution_count": 33,
   "metadata": {
    "id": "gjleihmpqsyL"
   },
   "outputs": [
    {
     "data": {
      "text/plain": [
       "[<matplotlib.lines.Line2D at 0x1c8478cd748>,\n",
       " <matplotlib.lines.Line2D at 0x1c847912b08>]"
      ]
     },
     "execution_count": 33,
     "metadata": {},
     "output_type": "execute_result"
    },
    {
     "data": {
      "image/png": "[encoded data removed]",
      "text/plain": [
       "<Figure size 432x288 with 1 Axes>"
      ]
     },
     "metadata": {
      "needs_background": "light"
     },
     "output_type": "display_data"
    }
   ],
   "source": [
    "import matplotlib.pyplot as plt\n",
    "def f(x): \n",
    "    return (x-3)**2\n",
    "def g(y):\n",
    "    arr = [] \n",
    "    xi = -4\n",
    "    for i in range (0,20):\n",
    "        arr.append(xi)\n",
    "        xi = xi - y * (2*xi - 6)\n",
    "        \n",
    "    return arr\n",
    "    \n",
    "def z(x):\n",
    "    arr = [] \n",
    "    xi= -4 \n",
    "    for i in range(0,20):\n",
    "        arr.append(xi)\n",
    "        xi = xi + x\n",
    "    \n",
    "    return arr\n",
    "    \n",
    "x = np.arange(-4,9,0.01)\n",
    "# i need x to be dimentionaly the same so it will be the diffrence in gamma \n",
    "plt.plot(x, f(x), z(0.5), g(0.5))\n",
    "\n",
    "\n",
    "\n",
    "\n"
   ]
  },
  {
   "cell_type": "code",
   "execution_count": null,
   "metadata": {},
   "outputs": [],
   "source": []
  }
 ],
 "metadata": {
  "colab": {
   "name": "Numpy, Matplotlib, and Math Preliminaries.ipynb",
   "provenance": []
  },
  "kernelspec": {
   "display_name": "Python 3",
   "language": "python",
   "name": "python3"
  },
  "language_info": {
   "codemirror_mode": {
    "name": "ipython",
    "version": 3
   },
   "file_extension": ".py",
   "mimetype": "text/x-python",
   "name": "python",
   "nbconvert_exporter": "python",
   "pygments_lexer": "ipython3",
   "version": "3.7.6"
  }
 },
 "nbformat": 4,
 "nbformat_minor": 1
}
